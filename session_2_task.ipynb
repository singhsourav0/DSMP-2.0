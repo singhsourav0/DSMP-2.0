{
  "nbformat": 4,
  "nbformat_minor": 0,
  "metadata": {
    "colab": {
      "provenance": [],
      "include_colab_link": true
    },
    "kernelspec": {
      "name": "python3",
      "display_name": "Python 3"
    },
    "language_info": {
      "name": "python"
    }
  },
  "cells": [
    {
      "cell_type": "markdown",
      "metadata": {
        "id": "view-in-github",
        "colab_type": "text"
      },
      "source": [
        "<a href=\"https://colab.research.google.com/github/singhsourav0/DSMP-2.0/blob/main/session_2_task.ipynb\" target=\"_parent\"><img src=\"https://colab.research.google.com/assets/colab-badge.svg\" alt=\"Open In Colab\"/></a>"
      ]
    },
    {
      "cell_type": "markdown",
      "source": [
        "### `Problem 1`: Write a program that will give you in hand monthly salary after deduction on CTC - HRA(10%), DA(5%), PF(3%) and taxes deduction as below:\n",
        "\n",
        "> Salary(Lakhs) : Tax(%)\n",
        "\n",
        "*   Below 5 : 0%\n",
        "*   5-10 : 10%\n",
        "*   10-20 : 20%\n",
        "*   aboove 20 : 30%"
      ],
      "metadata": {
        "id": "w6RlOAXV2PWh"
      }
    },
    {
      "cell_type": "code",
      "source": [
        "# Write code here\n",
        "print(\"I am calculating your in hand salary after deduction from CTC.\")\n",
        "print(\"For this Enter your salary in lakhs as 5 for 500000\")\n",
        "\n",
        "CTC = int(input(\"Salary(CTC): \"))\n",
        "\n",
        "#for all salary range the HRA , DA, PF will duducted as same.\n",
        "without_tax = CTC- ((CTC*18)/100)\n",
        "\n",
        "a = without_tax\n",
        "if a< 5:\n",
        "  print(\"your salary is: \", a, \"after duduction of HRA , DA and PF but you can't pay income taxes\")\n",
        "\n",
        "elif a> 5 and a<10 :\n",
        "   new_salary = a -((a*10)/100)\n",
        "   print(\"your salary is: \", new_salary, \"after duduction of HRA , DA and PF  after pay income taxes\")\n",
        "\n",
        "elif a> 10 and a<20:\n",
        "  new_salary = a -((a*20)/100)\n",
        "  print(\"your salary is: \", new_salary, \"after duduction of HRA , DA and PF  after pay income taxes\")\n",
        "\n",
        "else:\n",
        "  new_salary = a -((a*30)/100)\n",
        "  print(\"your salary is: \", new_salary, \"after duduction of HRA , DA and PF after also pay income taxes\")\n"
      ],
      "metadata": {
        "id": "7tMHvKYO2etI",
        "outputId": "b7d43afa-870d-4537-f4c8-1f56c60ce0a0",
        "colab": {
          "base_uri": "https://localhost:8080/"
        }
      },
      "execution_count": null,
      "outputs": [
        {
          "output_type": "stream",
          "name": "stdout",
          "text": [
            "I am calculating your in hand salary after deduction from CTC.\n",
            "For this Enter your salary in lakhs as 5 for 500000\n",
            "Salary(CTC): 30\n",
            "your salary is:  17.220000000000002 after duduction of HRA , DA and PF  after pay income taxes\n"
          ]
        }
      ]
    },
    {
      "cell_type": "markdown",
      "source": [
        "### `Problem 2`: Write a program that take a user input of three angles and will find out whether it can form a triangle or not."
      ],
      "metadata": {
        "id": "tYzCGqwl2hfN"
      }
    },
    {
      "cell_type": "code",
      "source": [
        "# Write code here\n",
        "print(\"You are checking the posibilites of creating triangle with 3 random degree.\")\n",
        "#taking angle>..\n",
        "a = int(input(\"Enter the 1st angle in degree (like 90 for 90°): \"))\n",
        "b = int(input(\"Enter the 2nd angle in degree: \"))\n",
        "c = int(input(\"Enter the 3rd angle in degree: \"))\n",
        "\n",
        "\n",
        "if a+b+c != 180:\n",
        "  print(\"you can't make a triangle with these degrees , try and make sum to 180°\")\n",
        "\n",
        "else:\n",
        "  print(\"yes, you can make a triangle with these degrees.\")\n",
        "\n",
        "     #for right angled\n",
        "  if a == 90 or b == 90 or c == 90:\n",
        "    print(\"The triangle is a right-angled triangle.\")\n",
        "    # Check for equilateral\n",
        "  elif a == b == c:\n",
        "    print(\"The triangle is an equilateral triangle.\")\n",
        "    # Check for isosceles\n",
        "  elif a == b or a == c or b == c:\n",
        "    print(\"The triangle is an isosceles triangle.\")\n",
        "    # Otherwise, it's a scalene\n",
        "  else:\n",
        "    print(\"The triangle is a scalene triangle.\")\n"
      ],
      "metadata": {
        "id": "FYEqln-I2kxV",
        "outputId": "011d6f5a-1e28-4f47-e813-ab9dc030ac24",
        "colab": {
          "base_uri": "https://localhost:8080/"
        }
      },
      "execution_count": null,
      "outputs": [
        {
          "output_type": "stream",
          "name": "stdout",
          "text": [
            "You are checking the posibilites of creating triangle with 3 random degree\n",
            "Enter the 1st angle in degree (like 90 for 90°): 40\n",
            "Enter the 2nd angle in degree: 50\n",
            "Enter the 3rd angle in degree: 90\n",
            "yes, you can make a triangle with these degrees\n",
            "The triangle is a right-angled triangle.\n"
          ]
        }
      ]
    },
    {
      "cell_type": "markdown",
      "source": [
        "### `Problem 3`: Write a program that will take user input of cost price and selling price and determines whether its a loss or a profit."
      ],
      "metadata": {
        "id": "5vEpPh8C2pE4"
      }
    },
    {
      "cell_type": "code",
      "source": [
        "# Write code here\n",
        "print(\"Here, you can determine whether you will get loss or profit after selling your product.\")\n",
        "print(\"For this have enter cost price and selling price.\")\n",
        "\n",
        "c = int(input(\"Enter your actual cost on the product: \"))\n",
        "s = int(input(\"Enter your selling price on the product:\"))\n",
        "\n",
        "print(\"your product have cost price:\", c, \"and selling price: \",s)\n",
        "\n",
        "if c > s:\n",
        "  print(\"bro, you are in loss.\")\n",
        "\n",
        "elif c<s:\n",
        "  print(\"yes, you are in profit.\")\n",
        "\n",
        "else:\n",
        "  print(\"are yaar, you have no loss no hope.\")"
      ],
      "metadata": {
        "id": "jDwBXlkO2sfl",
        "outputId": "30bd2675-c39b-479c-a935-fd37e2312410",
        "colab": {
          "base_uri": "https://localhost:8080/"
        }
      },
      "execution_count": null,
      "outputs": [
        {
          "output_type": "stream",
          "name": "stdout",
          "text": [
            "Here, you can determine whether you will get loss or profit after selling your product.\n",
            "For this have enter cost price and selling price.\n",
            "Enter your actual cost on the product: 40\n",
            "Enter your selling price on the product:50\n",
            "your product have cost price: 40 and selling price:  50\n",
            "yes, you are in profit.\n"
          ]
        }
      ]
    },
    {
      "cell_type": "markdown",
      "source": [
        "### `Problem 4`: Write a menu-driven program -\n",
        "1. cm to ft\n",
        "2. km to miles\n",
        "3. USD to INR\n",
        "4. exit"
      ],
      "metadata": {
        "id": "J_FG_cJW2ugT"
      }
    },
    {
      "cell_type": "code",
      "source": [
        "# Write code here\n",
        "\n",
        "print(\"I am here to convert your currency and length into other.\")\n",
        "\n",
        "#menu for converting\n",
        "menu = input(\"\"\"\n",
        "Hi! how can I help you.\n",
        "1. Enter 1 for cm to ft\n",
        "2. Enter 2 for km to miles\n",
        "3. Enter 3 for USD to INR\n",
        "4. Enter 4 for exit\n",
        "\"\"\")\n",
        "\n",
        "#conditions for changing\n",
        "\n",
        "#for cm to ft\n",
        "if menu == '1':\n",
        "  print('I am here to change your cm into ft: ')\n",
        "  cm = int(input(\"Enter length in Centimeters(cm): \"))\n",
        "  ft = 0.0328 * cm\n",
        "  print(\"Finally\" ,cm, \"cm = \", ft,\"ft\")\n",
        "\n",
        "#for km to miles\n",
        "elif menu == '2':\n",
        "  print('I am here to change your km into miles: ')\n",
        "  km = int(input(\"Enter distances in kilometers(km): \"))\n",
        "  miles = 0.62 * km\n",
        "  print(\"Finally\" ,km, \"km =\", miles,\"miles\")\n",
        "\n",
        "#for USD to INR\n",
        "elif menu == '3':\n",
        "  print('I am here to change your USD into INR: ')\n",
        "  USD = int(input(\"Enter your money in USD: \"))\n",
        "  INR = 83.50 * USD\n",
        "  print(\"Finally,\" ,USD, \"USD =\", INR,\"INR\")\n",
        "\n",
        "#taking shortcut\n",
        "else:\n",
        "  print('exit')"
      ],
      "metadata": {
        "id": "yBHhaCGQ2zpD",
        "outputId": "0cd33c1d-638c-46c2-c753-b03774fc23d4",
        "colab": {
          "base_uri": "https://localhost:8080/"
        }
      },
      "execution_count": null,
      "outputs": [
        {
          "output_type": "stream",
          "name": "stdout",
          "text": [
            "I am here to convert your currency and length into other.\n",
            "\n",
            "Hi! how can I help you.\n",
            "1. Enter 1 for cm to ft\n",
            "2. Enter 2 for km to miles\n",
            "3. Enter 3 for USD to INR\n",
            "4. Enter 4 for exit\n",
            "3\n",
            "I am here to change your USD into INR: \n",
            "Enter your money in USD: 10\n",
            "Finally 10 USD = 835.0 INR\n"
          ]
        }
      ]
    },
    {
      "cell_type": "markdown",
      "source": [
        "### `Problem 5` - Exercise 12: Display Fibonacci series up to 10 terms.\n",
        "\n",
        "*Note: The Fibonacci Sequence is a series of numbers. The next number is found by adding up the two numbers before it. The first two numbers are 0 and 1. For example, 0, 1, 1, 2, 3, 5, 8, 13, 21. The next number in this series above is 13+21 = 34*"
      ],
      "metadata": {
        "id": "LJJ30_Yw27ZU"
      }
    },
    {
      "cell_type": "code",
      "source": [
        "# Write code here\n",
        "x = 10\n",
        "\n",
        "# Initial\n",
        "fib1 = 0\n",
        "fib2 = 1\n",
        "\n",
        "# Display the first two Fibonacci numbers\n",
        "print(\"fib of 1 =\", fib1)\n",
        "print(\"fib of 2 =\", fib2)\n",
        "\n",
        "# Generate Fibonacci sequence up to x terms\n",
        "for i in range(3, x + 1):\n",
        "    # Calculate the next Fibonacci number\n",
        "    next_fib = fib1 + fib2\n",
        "    # Update fib1 and fib2 for the next iteration\n",
        "    fib1 = fib2\n",
        "    fib2 = next_fib\n",
        "    # Display the Fibonacci number\n",
        "    print(\"fib of\", i, \"=\", next_fib)\n",
        "\n",
        "\n"
      ],
      "metadata": {
        "id": "ae_1rpe52-5R",
        "outputId": "2345e7db-4910-41d0-b948-64c4e46453c5",
        "colab": {
          "base_uri": "https://localhost:8080/"
        }
      },
      "execution_count": null,
      "outputs": [
        {
          "output_type": "stream",
          "name": "stdout",
          "text": [
            "fib of 1 = 0\n",
            "fib of 2 = 1\n",
            "fib of 3 = 1\n",
            "fib of 4 = 2\n",
            "fib of 5 = 3\n",
            "fib of 6 = 5\n",
            "fib of 7 = 8\n",
            "fib of 8 = 13\n",
            "fib of 9 = 21\n",
            "fib of 10 = 34\n"
          ]
        }
      ]
    },
    {
      "cell_type": "markdown",
      "source": [
        "### `Problem 6` - Find the factorial of a given number.\n",
        "\n",
        "Write a program to use the loop to find the factorial of a given number.\n",
        "\n",
        "The factorial (symbol: `!`) means to multiply all whole numbers from the chosen number down to 1.\n",
        "\n",
        "For example: calculate the factorial of 5\n",
        "\n",
        "```bash\n",
        "5! = 5 × 4 × 3 × 2 × 1 = 120\n",
        "```\n",
        "\n",
        "Output:\n",
        "\n",
        "```bash\n",
        "120\n",
        "```"
      ],
      "metadata": {
        "id": "pk_I_S4m3PT5"
      }
    },
    {
      "cell_type": "code",
      "source": [
        "# Write code here\n",
        "\n",
        "num = int(input(\"For what Nos of factorials you want: \"))\n",
        "\n",
        "fact =1\n",
        "for i in range (1, num+1):\n",
        "  fact = fact *i\n",
        "print(\"factorials of\",num,\"=\", fact )"
      ],
      "metadata": {
        "id": "lzXxHegx3Rkc",
        "outputId": "861c1310-4997-4914-b1cb-1b3d3d9d628c",
        "colab": {
          "base_uri": "https://localhost:8080/"
        }
      },
      "execution_count": null,
      "outputs": [
        {
          "output_type": "stream",
          "name": "stdout",
          "text": [
            "For what Nos of factorials you want: 5\n",
            "factorials of 5 = 120\n"
          ]
        }
      ]
    },
    {
      "cell_type": "markdown",
      "source": [
        "### `Problem 7` - Reverse a given integer number.\n",
        "\n",
        "Example:\n",
        "\n",
        "`Input:`\n",
        "\n",
        "```bash\n",
        "76542\n",
        "```\n",
        "\n",
        "`Output:`\n",
        "\n",
        "```bash\n",
        "24567\n",
        "```"
      ],
      "metadata": {
        "id": "-17IOi-g3UpU"
      }
    },
    {
      "cell_type": "code",
      "source": [
        "# Write code here\n",
        "print(\"I am reversing the number 76542\")\n",
        "\n",
        "x = 76542\n",
        "reverse = 0\n",
        "\n",
        "while x > 0:\n",
        "\n",
        "    digit = x % 10\n",
        "    reverse = (reverse * 10) + digit\n",
        "    # Remove the last digit from x\n",
        "    x = x // 10\n",
        "\n",
        "print(\"The reversed number is:\", reverse)\n"
      ],
      "metadata": {
        "id": "wJwLpKCr3aVA",
        "outputId": "89df5b5e-3a18-4d40-b9f7-083d7849e3ba",
        "colab": {
          "base_uri": "https://localhost:8080/"
        }
      },
      "execution_count": null,
      "outputs": [
        {
          "output_type": "stream",
          "name": "stdout",
          "text": [
            "I am reversing the number 76542\n",
            "The reversed number is: 24567\n"
          ]
        }
      ]
    },
    {
      "cell_type": "markdown",
      "source": [
        "### `Problem 8`: Take a user input as integer N. Find out the sum from 1 to N. If any number if divisible by 5, then skip that number. And if the sum is greater than 300, don't need to calculate the sum further more. Print the final result. And don't use for loop to solve this problem.\n",
        "\n",
        "**Example 1:**\n",
        "\n",
        "`Input:`\n",
        "\n",
        "```bash\n",
        "30\n",
        "```\n",
        "\n",
        "`Output:`\n",
        "\n",
        "```bash\n",
        "276\n",
        "```"
      ],
      "metadata": {
        "id": "-t8PJQaY3sHf"
      }
    },
    {
      "cell_type": "code",
      "source": [
        "# Write code here\n",
        "\n",
        "print(\"\"\"\n",
        "I am going to calculates something intresting:\n",
        "let's see...\n",
        "\"\"\"\n",
        ")\n",
        "\n",
        "n = int(input(\"Enter just N for calculating intresting sum: \"))\n",
        "\n",
        "sum = 0\n",
        "# for i in range (1, n+1):\n",
        "#   if i % 5 != 0:\n",
        "#     sum = sum + i\n",
        "i = 1\n",
        "sum = 0\n",
        "\n",
        "while i <= n:\n",
        "    # If i is divisible by 5, skip it\n",
        "    if i % 5 == 0:\n",
        "        i += 1\n",
        "        continue\n",
        "\n",
        "    #sum\n",
        "    sum += i\n",
        "\n",
        "    # Check if the sum exceeds 300\n",
        "    if sum> 300:\n",
        "        sum -= i\n",
        "        break\n",
        "\n",
        "\n",
        "    i =i+ 1\n",
        "\n",
        "\n",
        "# Print the final result\n",
        "print(\"The sum from 1 to\", n, \"skipping numbers divisible by 5 is:\", sum)\n"
      ],
      "metadata": {
        "id": "GZB6mGMP3ujT",
        "outputId": "ba256d51-7755-441a-c762-b2f005ca8066",
        "colab": {
          "base_uri": "https://localhost:8080/"
        }
      },
      "execution_count": null,
      "outputs": [
        {
          "output_type": "stream",
          "name": "stdout",
          "text": [
            "\n",
            "I am going to calculates something intresting:\n",
            "let's see...\n",
            "\n",
            "Enter just N for calculating intresting sum: 30\n",
            "The sum from 1 to 30 skipping numbers divisible by 5 is: 303\n"
          ]
        }
      ]
    },
    {
      "cell_type": "markdown",
      "source": [
        "### `Problem 9`: Write a program that keeps on accepting a number from the user until the user enters Zero. Display the sum and average of all the numbers."
      ],
      "metadata": {
        "id": "Q7ggImeA3xm4"
      }
    },
    {
      "cell_type": "code",
      "source": [
        "# Write code here\n",
        "\n",
        "print(\"Hello , now we make infinite input accepting program.\")\n",
        "\n",
        "i = 1\n",
        "numbers = []\n",
        "\n",
        "#universal true loop\n",
        "while True:\n",
        "    #taking input\n",
        "    num = int(input(\"Enter number {}: \".format(i)))\n",
        "    if num == 0:\n",
        "        break\n",
        "    # for entering the no into list\n",
        "    numbers.append(num)\n",
        "    i += 1\n",
        "\n",
        "#for getting no of digit for calculating the average\n",
        "last = i-1\n",
        "\n",
        "print(\"Numbers entered:\", numbers)\n",
        "\n",
        "sum =0\n",
        "for i in numbers:\n",
        "  sum = sum+i\n",
        "\n",
        "avg = sum/last\n",
        "print(\"Total sum of \", numbers,\"is =\",sum)\n",
        "print(\"Total avg is: \",avg)"
      ],
      "metadata": {
        "id": "t_YDSZDe4Kdo",
        "colab": {
          "base_uri": "https://localhost:8080/"
        },
        "outputId": "7d6b8280-8827-48ce-9bcf-ea33222b0b07"
      },
      "execution_count": null,
      "outputs": [
        {
          "output_type": "stream",
          "name": "stdout",
          "text": [
            "Hello , now we make infinite input accepting program.\n",
            "Enter number 1: 5\n",
            "Enter number 2: 6\n",
            "Enter number 3: 4\n",
            "Enter number 4: 10\n",
            "Enter number 5: 5\n",
            "Enter number 6: 0\n",
            "Numbers entered: [5, 6, 4, 10, 5]\n",
            "Total sum of  [5, 6, 4, 10, 5] is = 30\n",
            "Total avg is:  6.0\n"
          ]
        }
      ]
    },
    {
      "cell_type": "markdown",
      "source": [
        "###`Problem 9`: Write a program which will find all such numbers which are divisible by 7 but are not a multiple of 5, between 2000 and 3200 (both included). The numbers obtained should be printed in a comma-separated sequence on a single line."
      ],
      "metadata": {
        "id": "6EhvEMvm4R7s"
      }
    },
    {
      "cell_type": "code",
      "source": [
        "# Write code here\n",
        "\n",
        "print(\"Program for the no which are divisible by 7 but not a multiple by 5 between 2000 and 3200\")\n",
        "numbers = []\n",
        "\n",
        "for i in range(2000, 3201):\n",
        "    if i % 7 == 0 and i % 5 != 0:\n",
        "        numbers.append(str(i))\n",
        "\n",
        "result = ', '.join(numbers)\n",
        "print(result)\n"
      ],
      "metadata": {
        "id": "d6RgP1B34T6c",
        "colab": {
          "base_uri": "https://localhost:8080/"
        },
        "outputId": "c08b6368-2a88-4744-e34f-17c7b6a4450e"
      },
      "execution_count": null,
      "outputs": [
        {
          "output_type": "stream",
          "name": "stdout",
          "text": [
            "Program for the no which are divisible by 7 but not a multiple by 5 between 2000 and 3200\n",
            "2002, 2009, 2016, 2023, 2037, 2044, 2051, 2058, 2072, 2079, 2086, 2093, 2107, 2114, 2121, 2128, 2142, 2149, 2156, 2163, 2177, 2184, 2191, 2198, 2212, 2219, 2226, 2233, 2247, 2254, 2261, 2268, 2282, 2289, 2296, 2303, 2317, 2324, 2331, 2338, 2352, 2359, 2366, 2373, 2387, 2394, 2401, 2408, 2422, 2429, 2436, 2443, 2457, 2464, 2471, 2478, 2492, 2499, 2506, 2513, 2527, 2534, 2541, 2548, 2562, 2569, 2576, 2583, 2597, 2604, 2611, 2618, 2632, 2639, 2646, 2653, 2667, 2674, 2681, 2688, 2702, 2709, 2716, 2723, 2737, 2744, 2751, 2758, 2772, 2779, 2786, 2793, 2807, 2814, 2821, 2828, 2842, 2849, 2856, 2863, 2877, 2884, 2891, 2898, 2912, 2919, 2926, 2933, 2947, 2954, 2961, 2968, 2982, 2989, 2996, 3003, 3017, 3024, 3031, 3038, 3052, 3059, 3066, 3073, 3087, 3094, 3101, 3108, 3122, 3129, 3136, 3143, 3157, 3164, 3171, 3178, 3192, 3199\n"
          ]
        }
      ]
    },
    {
      "cell_type": "markdown",
      "source": [
        "###`Problem 10`: Write a program, which will find all such numbers between 1000 and 3000 (both included) such that each digit of the number is an even number. The numbers obtained should be printed in a space-separated sequence on a single line.\n",
        "\n"
      ],
      "metadata": {
        "id": "tYvmRR-G4Vp4"
      }
    },
    {
      "cell_type": "code",
      "source": [
        "# Write code here\n",
        "\n",
        "print(\"Code for the No. between 1000 to 3000 \")\n",
        "\n",
        "\n",
        "result = []\n",
        "\n",
        "for num in range(1000, 3001):\n",
        "    all_even = True\n",
        "    for digit in str(num):\n",
        "        # Check if the digit is even\n",
        "        if int(digit) % 2 != 0:\n",
        "            all_even = False\n",
        "            break\n",
        "    # If all digits are even, add the number to the result list\n",
        "    if all_even:\n",
        "        result.append(str(num))\n",
        "\n",
        "# Print the numbers in a space-separated sequence on a single line\n",
        "print(\" \".join(result))\n",
        "\n",
        "\n",
        "\n",
        "\n"
      ],
      "metadata": {
        "id": "k6Gs1kIf4k19",
        "colab": {
          "base_uri": "https://localhost:8080/"
        },
        "outputId": "82965d3f-62c5-4c89-922b-9bbe2146f444"
      },
      "execution_count": null,
      "outputs": [
        {
          "output_type": "stream",
          "name": "stdout",
          "text": [
            "Code for the No. between 1000 to 3000 \n",
            "2000 2002 2004 2006 2008 2020 2022 2024 2026 2028 2040 2042 2044 2046 2048 2060 2062 2064 2066 2068 2080 2082 2084 2086 2088 2200 2202 2204 2206 2208 2220 2222 2224 2226 2228 2240 2242 2244 2246 2248 2260 2262 2264 2266 2268 2280 2282 2284 2286 2288 2400 2402 2404 2406 2408 2420 2422 2424 2426 2428 2440 2442 2444 2446 2448 2460 2462 2464 2466 2468 2480 2482 2484 2486 2488 2600 2602 2604 2606 2608 2620 2622 2624 2626 2628 2640 2642 2644 2646 2648 2660 2662 2664 2666 2668 2680 2682 2684 2686 2688 2800 2802 2804 2806 2808 2820 2822 2824 2826 2828 2840 2842 2844 2846 2848 2860 2862 2864 2866 2868 2880 2882 2884 2886 2888\n"
          ]
        }
      ]
    },
    {
      "cell_type": "markdown",
      "source": [
        "###`Problem 11`: A robot moves in a plane starting from the original point (0,0). The robot can move toward UP, DOWN, LEFT and RIGHT with a given steps.\n",
        "The trace of robot movement is shown as the following:\n",
        "```\n",
        "UP 5\n",
        "DOWN 3\n",
        "LEFT 3\n",
        "RIGHT 2\n",
        "!\n",
        "```\n",
        "> The numbers after the direction are steps.\n",
        "\n",
        "> `!` means robot stop there.\n",
        "\n",
        "**Please write a program to compute the distance from current position after a sequence of movement and original point.**\n",
        "\n",
        "*If the distance is a float, then just print the nearest integer.*\n",
        "\n",
        "Example:\n",
        "\n",
        "`Input`:\n",
        "```\n",
        "UP 5\n",
        "DOWN 3\n",
        "LEFT 3\n",
        "RIGHT 2\n",
        "!\n",
        "```\n",
        "`Output`:\n",
        "```\n",
        "2\n",
        "```"
      ],
      "metadata": {
        "id": "GV18IINT4mf5"
      }
    },
    {
      "cell_type": "code",
      "source": [
        "# Write code here"
      ],
      "metadata": {
        "id": "6UNMC2aR4w5x"
      },
      "execution_count": null,
      "outputs": []
    },
    {
      "cell_type": "markdown",
      "source": [
        "###`Problem 12`:Write a program to print whether a given number is a prime number or not"
      ],
      "metadata": {
        "id": "3fsAIAhK5GYY"
      }
    },
    {
      "cell_type": "code",
      "source": [
        "# Write code here\n",
        "\n",
        "number = int(input(\"Enter a number: \"))\n",
        "\n",
        "if number > 1:\n",
        "    # Iterate from 2 to the number - 1\n",
        "    for i in range(2, number):\n",
        "        # Check if the number is divisible by any number other than 1 and itself\n",
        "        if number % i == 0:\n",
        "            print(number, \"is not a prime number\")\n",
        "            break\n",
        "    else:\n",
        "        print(number, \"is a prime number\")\n",
        "else:\n",
        "    print(number, \"is not a prime number\")\n"
      ],
      "metadata": {
        "id": "j6y91lxy5LZs",
        "colab": {
          "base_uri": "https://localhost:8080/"
        },
        "outputId": "820ec255-1296-4875-e79d-d8a68571a1d4"
      },
      "execution_count": null,
      "outputs": [
        {
          "output_type": "stream",
          "name": "stdout",
          "text": [
            "Enter a number: 13\n",
            "13 is a prime number\n"
          ]
        }
      ]
    },
    {
      "cell_type": "markdown",
      "source": [
        "###`Problem 13`:Print all the Armstrong numbers in a given range.\n",
        "Range will be provided by the user<br>\n",
        "Armstrong number is a number that is equal to the sum of cubes of its digits. For example 0, 1, 153, 370, 371 and 407 are the Armstrong numbers."
      ],
      "metadata": {
        "id": "asAbmbK-5NHv"
      }
    },
    {
      "cell_type": "code",
      "source": [
        "# Write code here\n",
        "\n",
        "# Function to calculate the number of digits in a number\n",
        "def count_digits(num):\n",
        "    count = 0\n",
        "    while num != 0:\n",
        "        num //= 10\n",
        "        count += 1\n",
        "    return count\n",
        "\n",
        "# Function to check if a number is an Armstrong number\n",
        "def is_armstrong(num):\n",
        "    num_digits = count_digits(num)\n",
        "    original_num = num\n",
        "    armstrong_sum = 0\n",
        "\n",
        "    while num != 0:\n",
        "        digit = num % 10\n",
        "        armstrong_sum += digit ** num_digits\n",
        "        num //= 10\n",
        "\n",
        "    return armstrong_sum == original_num\n",
        "\n",
        "# Get the range from the user\n",
        "start = int(input(\"Enter the starting number of the range: \"))\n",
        "end = int(input(\"Enter the ending number of the range: \"))\n",
        "\n",
        "# Print Armstrong numbers in the given range\n",
        "print(\"Armstrong numbers in the range {} to {}: \".format(start, end))\n",
        "for number in range(start, end + 1):\n",
        "    if is_armstrong(number):\n",
        "        print(number)\n"
      ],
      "metadata": {
        "id": "PZuI67pm5jCT",
        "colab": {
          "base_uri": "https://localhost:8080/"
        },
        "outputId": "65ebab33-f101-4764-975d-4afbe34c8f0d"
      },
      "execution_count": null,
      "outputs": [
        {
          "output_type": "stream",
          "name": "stdout",
          "text": [
            "Enter the starting number of the range: 2\n",
            "Enter the ending number of the range: 2000\n",
            "Armstrong numbers in the range 2 to 2000: \n",
            "2\n",
            "3\n",
            "4\n",
            "5\n",
            "6\n",
            "7\n",
            "8\n",
            "9\n",
            "153\n",
            "370\n",
            "371\n",
            "407\n",
            "1634\n"
          ]
        }
      ]
    },
    {
      "cell_type": "markdown",
      "source": [
        "###`Problem 14`:Calculate the angle between the hour hand and minute hand.\n",
        "\n",
        "Note: There can be two angles between hands; we need to print a minimum of two. Also, we need to print the floor of the final result angle. For example, if the final angle is 10.61, we need to print 10.\n",
        "\n",
        "Input:<br>\n",
        "H = 9 , M = 0<br>\n",
        "Output:<br>\n",
        "90<br>\n",
        "Explanation:<br>\n",
        "The minimum angle between hour and minute\n",
        "hand when the time is 9 is 90 degress."
      ],
      "metadata": {
        "id": "ClCQZMqT7gK0"
      }
    },
    {
      "cell_type": "code",
      "source": [
        "# Write code here\n",
        "def calcAngle(H, M):\n",
        "    # Calculate the hour angle\n",
        "    hour_angle = (30 * H) + (M / 2)\n",
        "\n",
        "    # Calculate the minute angle\n",
        "    minute_angle = 6 * M\n",
        "\n",
        "    # Calculate the absolute difference between hour and minute angles\n",
        "    angle = abs(hour_angle - minute_angle)\n",
        "\n",
        "    # Take the minimum of angle and 360 - angle\n",
        "    angle = min(angle, 360 - angle)\n",
        "\n",
        "    # Return the floor of the final angle\n",
        "    return int(angle)\n",
        "\n",
        "# Input time\n",
        "H = 9\n",
        "M = 0\n",
        "\n",
        "# Calculate and print the angle\n",
        "print(calcAngle(H, M))\n"
      ],
      "metadata": {
        "id": "tNBTCZML7jy_",
        "colab": {
          "base_uri": "https://localhost:8080/"
        },
        "outputId": "d90fac86-1ef9-428e-9d54-1a0a1c324397"
      },
      "execution_count": 1,
      "outputs": [
        {
          "output_type": "stream",
          "name": "stdout",
          "text": [
            "90\n"
          ]
        }
      ]
    },
    {
      "cell_type": "markdown",
      "source": [
        "###`Problem 15`:Given two rectangles, find if the given two rectangles overlap or not. A rectangle is denoted by providing the x and y coordinates of two points: the left top corner and the right bottom corner of the rectangle. Two rectangles sharing a side are considered overlapping. (L1 and R1 are the extreme points of the first rectangle and L2 and R2 are the extreme points of the second rectangle).\n",
        "\n",
        "Note: It may be assumed that the rectangles are parallel to the coordinate axis.\n",
        "\n",
        "<img src='https://www.geeksforgeeks.org/wp-content/uploads/rectanglesOverlap.png' width='300' height='200'>"
      ],
      "metadata": {
        "id": "GwacF9Co72Qc"
      }
    },
    {
      "cell_type": "code",
      "source": [
        "# Write code here\n",
        "\n",
        "def doOverlap(L1, R1, L2, R2):\n",
        "    # If one rectangle is on left side of the other\n",
        "    if L1[0] > R2[0] or L2[0] > R1[0]:\n",
        "        return False\n",
        "\n",
        "    # If one rectangle is above the other\n",
        "    if L1[1] < R2[1] or L2[1] < R1[1]:\n",
        "        return False\n",
        "\n",
        "    return True\n",
        "\n",
        "# Example usage:\n",
        "# Coordinates of the first rectangle (L1: left top, R1: right bottom)\n",
        "L1 = (0, 10)\n",
        "R1 = (10, 0)\n",
        "\n",
        "# Coordinates of the second rectangle (L2: left top, R2: right bottom)\n",
        "L2 = (5, 5)\n",
        "R2 = (15, 0)\n",
        "\n",
        "# Check if the rectangles overlap\n",
        "if doOverlap(L1, R1, L2, R2):\n",
        "    print(\"Rectangles overlap\")\n",
        "else:\n",
        "    print(\"Rectangles do not overlap\")\n"
      ],
      "metadata": {
        "id": "6rrw_lpH78Rs",
        "colab": {
          "base_uri": "https://localhost:8080/"
        },
        "outputId": "5dd0ceb5-3d72-4f94-f7fc-f55c99a098cb"
      },
      "execution_count": 2,
      "outputs": [
        {
          "output_type": "stream",
          "name": "stdout",
          "text": [
            "Rectangles overlap\n"
          ]
        }
      ]
    },
    {
      "cell_type": "code",
      "source": [],
      "metadata": {
        "id": "pnu6wkHMyxnP"
      },
      "execution_count": null,
      "outputs": []
    }
  ]
}
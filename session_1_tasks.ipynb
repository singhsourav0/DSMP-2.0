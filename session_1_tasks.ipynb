{
  "nbformat": 4,
  "nbformat_minor": 0,
  "metadata": {
    "colab": {
      "provenance": []
    },
    "kernelspec": {
      "name": "python3",
      "display_name": "Python 3"
    },
    "language_info": {
      "name": "python"
    }
  },
  "cells": [
    {
      "cell_type": "markdown",
      "source": [
        "# Task : Session 1\n",
        "Solve these questions own your own and try to test yourself what you have learned in the session.\n",
        "\n",
        "Happy Learning!"
      ],
      "metadata": {
        "id": "A05OG15VqOPF"
      }
    },
    {
      "cell_type": "markdown",
      "source": [
        "### Q1 :- Print the given strings as per stated format.\n",
        "\n",
        "**Given strings**:\n",
        "```\n",
        "\"Data\" \"Science\" \"Mentorship\" \"Program\"\n",
        "\"By\" \"CampusX\"\n",
        "```\n",
        "**Output**:\n",
        "```\n",
        "Data-Science-Mentorship-Program-started-By-CampusX\n",
        "```\n",
        "\n",
        "Concept- [Seperator and End]"
      ],
      "metadata": {
        "id": "2doIXf8bqe9_"
      }
    },
    {
      "cell_type": "code",
      "source": [
        "# Write your code here\n",
        "print(\"Data\",\"Science\" ,\"Mentorship\" ,\"Program\",sep='-',end='-')\n",
        "print(\"started\" ,\"By\",\"CampusX\", sep ='-')"
      ],
      "metadata": {
        "id": "-em6d3KErDtp",
        "outputId": "1091d001-b1cc-417a-ddcf-4b150a8b28cb",
        "colab": {
          "base_uri": "https://localhost:8080/"
        }
      },
      "execution_count": 5,
      "outputs": [
        {
          "output_type": "stream",
          "name": "stdout",
          "text": [
            "Data-Science-Mentorship-Program-started-By-CampusX\n"
          ]
        }
      ]
    },
    {
      "cell_type": "markdown",
      "source": [
        "### Q2:- Write a program that will convert celsius value to fahrenheit."
      ],
      "metadata": {
        "id": "1KUpN7ZTrC3_"
      }
    },
    {
      "cell_type": "code",
      "source": [
        "# Write your code here\n",
        "\n",
        "#Taking input as Celsius\n",
        "Temp =int(input(\"please enter value in celsius: \"))\n",
        "#convert celsius value to fahrenheit\n",
        "result =  (Temp * 9/5) + 32\n",
        "#printing...\n",
        "print(\"Temprature in fahrenheit:\", result)"
      ],
      "metadata": {
        "id": "yxKYhYQiqWfj",
        "outputId": "8c569da7-7b0a-475d-cf3b-e9ec40d18c53",
        "colab": {
          "base_uri": "https://localhost:8080/"
        }
      },
      "execution_count": 10,
      "outputs": [
        {
          "output_type": "stream",
          "name": "stdout",
          "text": [
            "please enter value in celsius: 38\n",
            "Temprature in fahrenheit: 100.4\n"
          ]
        }
      ]
    },
    {
      "cell_type": "markdown",
      "source": [
        "### Q3:- Take 2 numbers as input from the user.Write a program to swap the numbers without using any special python syntax."
      ],
      "metadata": {
        "id": "RLrOBBJurLB2"
      }
    },
    {
      "cell_type": "code",
      "source": [
        "# Write your code here\n",
        "import time\n",
        "#taking input from user\n",
        "X = int(input(\"enter 1st No. for swap: \"))\n",
        "Y = int(input(\"enter 2nd No. for swap: \"))\n",
        "print(X, Y, \":> Before Swaping\")\n",
        "\n",
        "#waiting to understand better\n",
        "print(\"swaping...\")\n",
        "time.sleep(3)\n",
        "#for swaping...\n",
        "temp = X\n",
        "X = Y\n",
        "Y = temp\n",
        "\n",
        "print(X, Y,\":> After swaping\")"
      ],
      "metadata": {
        "id": "yPn7if0TrJ4F",
        "outputId": "19a7d813-da82-4a99-b5ac-9a1d46cfd718",
        "colab": {
          "base_uri": "https://localhost:8080/"
        }
      },
      "execution_count": 12,
      "outputs": [
        {
          "output_type": "stream",
          "name": "stdout",
          "text": [
            "enter 1st No. for swap: 20\n",
            "enter 2nd No. for swap: 30\n",
            "20 30 :> Before Swaping\n",
            "swaping...\n",
            "30 20 :> After swaping\n"
          ]
        }
      ]
    },
    {
      "cell_type": "markdown",
      "source": [
        "### Q4:- Write a program to find the euclidean distance between two coordinates.Take both the coordinates from the user as input."
      ],
      "metadata": {
        "id": "waLCP1bjr7ML"
      }
    },
    {
      "cell_type": "code",
      "source": [
        "# Write your code here\n",
        "\n",
        "import math\n",
        "x1= int(input(\"Enter x1: \"))\n",
        "y1 = int(input(\"Enter y1: \"))\n",
        "\n",
        "x2 = int(input(\"Enter x2: \"))\n",
        "y2 = int(input(\"Enter y2: \"))\n",
        "\n",
        "# for getting euclidean distance we have to use formulas for it\n",
        "\n",
        "x = pow((x1-x2),2)\n",
        "y = pow((y1-y2),2)\n",
        "\n",
        "Eu_dis = math.sqrt((x+y))\n",
        "print(Eu_dis)"
      ],
      "metadata": {
        "id": "Pl1Sv-xnrxnH",
        "outputId": "c9e0d9ad-0356-4296-d0f3-e0c0e892030e",
        "colab": {
          "base_uri": "https://localhost:8080/"
        }
      },
      "execution_count": 25,
      "outputs": [
        {
          "output_type": "stream",
          "name": "stdout",
          "text": [
            "Enter x1: 1\n",
            "Enter y1: 3\n",
            "Enter x2: 4\n",
            "Enter y2: 3\n",
            "3.0\n"
          ]
        }
      ]
    },
    {
      "cell_type": "markdown",
      "source": [
        "### Q5:- Write a program to find the simple interest when the value of principle,rate of interest and time period is provided by the user.\n"
      ],
      "metadata": {
        "id": "VLrhg-FRsHjR"
      }
    },
    {
      "cell_type": "code",
      "source": [
        "# Write your code here\n",
        "\n",
        "print(\"we are going to calculate Simple Interest. For this Enter following inputs: \")\n",
        "\n",
        "p = float(input(\"Enter Principle: \"))\n",
        "r = int(input(\"Enter Rate: \"))\n",
        "t = float(input(\"Enter time periods:\"))\n",
        "\n",
        "SI = (p*r*t)/100\n",
        "\n",
        "print(\"The simple Interest of\", p,\",\" ,r,\"and\", t, \"is: \",SI)"
      ],
      "metadata": {
        "id": "s40DlReZsTmY",
        "outputId": "c431af0f-602d-4a48-82a4-76de528a95c2",
        "colab": {
          "base_uri": "https://localhost:8080/"
        }
      },
      "execution_count": 29,
      "outputs": [
        {
          "output_type": "stream",
          "name": "stdout",
          "text": [
            "we are going to calculate Simple Interest. For this Enter following inputs: \n",
            "Enter Principle: 10000\n",
            "Enter Rate: 5\n",
            "Enter time periods:4\n",
            "The simple Interest of 10000.0 , 5 and 4.0 is:  2000.0\n"
          ]
        }
      ]
    },
    {
      "cell_type": "markdown",
      "source": [
        "### Q6:- Write a program that will tell the number of dogs and chicken are there when the user will provide the value of total heads and legs.\n",
        "\n",
        "For example:\n",
        "Input:\n",
        "heads -> 4\n",
        "legs -> 12\n",
        "<br>\n",
        "Output:\n",
        "dogs -> 2\n",
        "chicken -> 2\n",
        "\n",
        "\n",
        "\n"
      ],
      "metadata": {
        "id": "LMy0BTUktYKa"
      }
    },
    {
      "cell_type": "code",
      "source": [
        "# Write your code here"
      ],
      "metadata": {
        "id": "XSBvJoA4tXaG"
      },
      "execution_count": null,
      "outputs": []
    },
    {
      "cell_type": "markdown",
      "source": [
        "### Q7:- Write a program to find the sum of squares of first n natural numbers where n will be provided by the user."
      ],
      "metadata": {
        "id": "gJ7C5kZYt4BP"
      }
    },
    {
      "cell_type": "code",
      "source": [
        "# Write your code here\n",
        "#we have to find sum of square of 1^2, 2^2, 3^2, ... to the input of the user.\n",
        "n = int(input(\"Enter N for Calculating sum of squares of 1st n natural No.\"))\n",
        "N_sum = (((n*(n+1))*(2*n+1))/6)\n",
        "print(\"total sum of squares till\", n,\"from 1 is : \", N_sum)"
      ],
      "metadata": {
        "id": "_tHsmEHzt2nX",
        "outputId": "752f7389-3de2-4dce-a4ed-e702c0e24d0c",
        "colab": {
          "base_uri": "https://localhost:8080/"
        }
      },
      "execution_count": 31,
      "outputs": [
        {
          "output_type": "stream",
          "name": "stdout",
          "text": [
            "Enter N for Calculating sum of squares of 1st n natural No.5\n",
            "total sum of squares till 5 from 1 is :  55.0\n"
          ]
        }
      ]
    },
    {
      "cell_type": "markdown",
      "source": [
        "### Q8:- Given the first 2 terms of an Arithmetic Series.Find the Nth term of the series. Assume all inputs are provided by the user."
      ],
      "metadata": {
        "id": "FHrMM7g-yG1h"
      }
    },
    {
      "cell_type": "code",
      "source": [
        "# Write your code here\n",
        "# Get input for first term (a1)\n",
        "a1 = float(input(\"Enter the first term (a1) of the arithmetic series: \"))\n",
        "\n",
        "# Get input for second term (a2)\n",
        "a2 = float(input(\"Enter the second term (a2) of the arithmetic series: \"))\n",
        "\n",
        "# Get input for the desired term (n)\n",
        "n = int(input(\"Enter the term number (n) you want to find: \"))\n",
        "\n",
        "# Calculate the common difference (d)\n",
        "d = a2 - a1\n",
        "\n",
        "# Calculate the nth term (an)\n",
        "an = a1 + (n - 1) * d\n",
        "\n",
        "print(\"The {}th term of the arithmetic series is: {}\".format(n, an))\n",
        "\n"
      ],
      "metadata": {
        "id": "go4_kmZmyVSx",
        "outputId": "da36792b-a116-4ab0-de6c-0c6040c52200",
        "colab": {
          "base_uri": "https://localhost:8080/"
        }
      },
      "execution_count": 38,
      "outputs": [
        {
          "output_type": "stream",
          "name": "stdout",
          "text": [
            "Enter the first term (a1) of the arithmetic series: 4\n",
            "Enter the second term (a2) of the arithmetic series: 6\n",
            "Enter the term number (n) you want to find: 8\n",
            "The 8th term of the arithmetic series is: 18.0\n"
          ]
        }
      ]
    },
    {
      "cell_type": "markdown",
      "source": [
        "### Q9:- Given 2 fractions, find the sum of those 2 fractions.Take the numerator and denominator values of the fractions from the user."
      ],
      "metadata": {
        "id": "QgyRX_es1oum"
      }
    },
    {
      "cell_type": "code",
      "source": [
        "# Write your code here\n",
        "\n",
        "# Get input for first fraction\n",
        "num1 = int(input(\"Enter the numerator of the 1st fraction: \"))\n",
        "den1 = int(input(\"Enter the denominator of the 1st fraction: \"))\n",
        "\n",
        "# Get input for second fraction\n",
        "num2 = int(input(\"Enter the numerator of the 2nd fraction: \"))\n",
        "den2 = int(input(\"Enter the denominator of the 2nd fraction: \"))\n",
        "\n",
        "# Calculate the sum of fractions\n",
        "result_num = num1 * den2 + num2 * den1\n",
        "result_den = den1 * den2\n",
        "\n",
        "#simplify the fraction if possible\n",
        "a, b = result_num, result_den\n",
        "while b:\n",
        "    a, b = b, a % b\n",
        "gcd = a\n",
        "\n",
        "# Simplify the fraction if possible\n",
        "result_num //= gcd\n",
        "result_den //= gcd\n",
        "print(\"fractions sum are: {}/{} + {}/{} = {}/{} \".format(num1,den1, num2,den2, result_num, result_den))\n",
        "\n"
      ],
      "metadata": {
        "id": "X05xqFS1yW16",
        "outputId": "1d743861-be01-44d5-a7ac-22087ec53682",
        "colab": {
          "base_uri": "https://localhost:8080/"
        }
      },
      "execution_count": 37,
      "outputs": [
        {
          "output_type": "stream",
          "name": "stdout",
          "text": [
            "Enter the numerator of the first fraction: 4\n",
            "Enter the denominator of the first fraction: 3\n",
            "Enter the numerator of the second fraction: 5\n",
            "Enter the denominator of the second fraction: 3\n",
            "fractions sum are: 4/3 + 5/3 = 3/1 \n"
          ]
        }
      ]
    },
    {
      "cell_type": "markdown",
      "source": [
        "### Q10:- Given the height, width and breadth of a milk tank, you have to find out how many glasses of milk can be obtained? Assume all the inputs are provided by the user.\n",
        "\n",
        "\n",
        "\n",
        "Input:<br>\n",
        "Dimensions of the milk tank<br>\n",
        "H = 20cm, L = 20cm, B = 20cm\n",
        "<br><br>\n",
        "Dimensions of the glass<br>\n",
        "h = 3cm, r = 1cm"
      ],
      "metadata": {
        "id": "eaql38ln13u7"
      }
    },
    {
      "cell_type": "code",
      "source": [
        "# Write your code here\n",
        "\n",
        "import math\n",
        "\n",
        "class MilkTank:\n",
        "    def __init__(self, height, length, breadth):\n",
        "        self.height = height\n",
        "        self.length = length\n",
        "        self.breadth = breadth\n",
        "\n",
        "    def volume(self):\n",
        "        return self.height * self.length * self.breadth\n",
        "\n",
        "class Glass:\n",
        "    def __init__(self, height, radius):\n",
        "        self.height = height\n",
        "        self.radius = radius\n",
        "\n",
        "    def volume(self):\n",
        "        return math.pi * self.radius**2 * self.height\n",
        "\n",
        "def main():\n",
        "    # Input dimensions of the milk tank\n",
        "    H = float(input(\"Enter height of the milk tank (in cm): \"))\n",
        "    L = float(input(\"Enter length of the milk tank (in cm): \"))\n",
        "    B = float(input(\"Enter breadth of the milk tank (in cm): \"))\n",
        "\n",
        "    # Input dimensions of the glass\n",
        "    h = float(input(\"Enter height of the glass (in cm): \"))\n",
        "    r = float(input(\"Enter radius of the glass (in cm): \"))\n",
        "\n",
        "    # Create instances of MilkTank and Glass\n",
        "    milk_tank = MilkTank(H, L, B)\n",
        "    glass = Glass(h, r)\n",
        "\n",
        "    # Calculate volumes\n",
        "    tank_volume = milk_tank.volume()\n",
        "    glass_volume = glass.volume()\n",
        "\n",
        "    # Calculate how many glasses of milk can be obtained\n",
        "    glasses_count = tank_volume / glass_volume\n",
        "\n",
        "    print(\"Number of glasses of milk that can be obtained:\", int(glasses_count))\n",
        "\n",
        "if __name__ == \"__main__\":\n",
        "    main()\n",
        "\n"
      ],
      "metadata": {
        "id": "FePZqno74eWv",
        "outputId": "73b0dfeb-a266-48f3-8a85-358efa280544",
        "colab": {
          "base_uri": "https://localhost:8080/"
        }
      },
      "execution_count": 32,
      "outputs": [
        {
          "output_type": "stream",
          "name": "stdout",
          "text": [
            "Enter height of the milk tank (in cm): 20\n",
            "Enter length of the milk tank (in cm): 20\n",
            "Enter breadth of the milk tank (in cm): 20\n",
            "Enter height of the glass (in cm): 3\n",
            "Enter radius of the glass (in cm): 1\n",
            "Number of glasses of milk that can be obtained: 848\n"
          ]
        }
      ]
    },
    {
      "cell_type": "code",
      "source": [],
      "metadata": {
        "id": "y04FKrLIOxX8"
      },
      "execution_count": null,
      "outputs": []
    }
  ]
}